{
 "cells": [
  {
   "cell_type": "markdown",
   "metadata": {},
   "source": [
    "<big><b>HOMEWORK 2</b></big>"
   ]
  },
  {
   "cell_type": "code",
   "execution_count": 909,
   "metadata": {},
   "outputs": [],
   "source": [
    "import string\n",
    "import numpy as np\n",
    "from collections import deque\n",
    "import itertools\n",
    "import hashlib\n",
    "import base64"
   ]
  },
  {
   "cell_type": "markdown",
   "metadata": {},
   "source": [
    "<big><b>EXERCISE 1</b></big>"
   ]
  },
  {
   "cell_type": "code",
   "execution_count": 619,
   "metadata": {},
   "outputs": [],
   "source": [
    "#pk_b = [389258881334190399452027237482197007930232330941325, 30402458690454919936937105795616495523730710246059, 494800977457749436907007133217459070246188801469143]\n",
    "#sk = 2348980990849942434849967\n",
    "pk_b = [551563973747261214634735691943209050826967788273750, 287145656897263292942483797616118995048734358003097, 946053578558154916377303911075380595736145129482227]\n",
    "sk = 1899058227338264379357101"
   ]
  },
  {
   "cell_type": "code",
   "execution_count": 571,
   "metadata": {},
   "outputs": [],
   "source": [
    "def key_agreement(pk_b, sk):\n",
    "    fn = pk_b[0]\n",
    "    fn_1 = pk_b[1]\n",
    "    p = pk_b[2]\n",
    "    \n",
    "    Zp = Integers(p)\n",
    "    M = MatrixSpace(Zp,2,2)\n",
    "    A = M([1,1, 1,0])\n",
    "    \n",
    "    F = A^(sk+1)\n",
    "    f_sk = F[1][1]\n",
    "    f_sk1 = F[1][0]\n",
    "    f_n_sk = mod(f_sk1*fn + f_sk*fn_1, p)\n",
    "    \n",
    "    return f_n_sk"
   ]
  },
  {
   "cell_type": "code",
   "execution_count": 620,
   "metadata": {},
   "outputs": [
    {
     "data": {
      "text/plain": [
       "153195724632741661936964819795346858853334810407322"
      ]
     },
     "execution_count": 620,
     "metadata": {},
     "output_type": "execute_result"
    }
   ],
   "source": [
    "key_agreement(pk_b, sk)"
   ]
  },
  {
   "cell_type": "markdown",
   "metadata": {},
   "source": [
    "<big><b>EXERCISE 2</b></big>"
   ]
  },
  {
   "cell_type": "code",
   "execution_count": 617,
   "metadata": {},
   "outputs": [],
   "source": [
    "#key1 = deque([4, 3, 12, 6, 9, 13, 2, 7, 14, 1, 8, 10, 5, 11])\n",
    "#key2 = deque([2, 3, 1, 5, 4, 7, 6])\n",
    "#ct = \"VoBilYIGWhblNHRGIz2ZVplb5HatZ=xG0b Wm5Ivc bz5WtbIm39apVGVGdy2hlu5d9GIndlJHkZYGmVIlx3ZXVg25JvtbwWZp\"\n",
    "key1 = deque([2, 8, 11, 10, 3, 9, 6, 5, 13, 12, 7, 4, 1, 14])\n",
    "key2 = deque([3, 1, 6, 2, 7, 5, 4])\n",
    "ct = \"pvpcFk2pBBBycGvFmmspZBkGewBRXbXcmXixINo3dbbvxcXb1z0c5YmgNBBSuRgxmyWgYcBmccQkHZma2iidamvmbbLoNtRdlsWXJbi0B5cblQhV\""
   ]
  },
  {
   "cell_type": "code",
   "execution_count": 621,
   "metadata": {},
   "outputs": [],
   "source": [
    "def make_columnar(ct, key):\n",
    "    col_trans = [[ct[i*(len(ct)/len(key))+j] for j in range(len(ct)/len(key))] for i in range(len(key))]\n",
    "    col_trans = np.transpose(col_trans)\n",
    "    return col_trans"
   ]
  },
  {
   "cell_type": "code",
   "execution_count": 625,
   "metadata": {},
   "outputs": [],
   "source": [
    "def compute_op(ct, col_trans, key):\n",
    "    op = \"\"\n",
    "    for i in range(len(ct)/len(key)):\n",
    "        for k in key:\n",
    "            op = op + col_trans[i][k-1]\n",
    "    return op"
   ]
  },
  {
   "cell_type": "code",
   "execution_count": 633,
   "metadata": {},
   "outputs": [
    {
     "name": "stdout",
     "output_type": "stream",
     "text": [
      "0\n",
      "��K�\u0017\tfY��\b�l\u001b\u001ba�G�z[��\u001c",
      "[\n",
      "9^�`�[\u001e",
      "I\u0005���ܙɝ�\u001c",
      "A���Da����r�A�e��Y���rq�����ժ[^�A\u0005�����\n",
      "1\n",
      "\u0005�lm�\u0011\u001e",
      "��^&�ql\r",
      "�˩�afy$\u0016�b/�g&v�o\u0007G/�\u0011��W2q��\u0006I��AfW3M���\u0006\u0016�kV�uz\u001d",
      "\u0004\u0016�B\u0006fƐeF��r\u0006w&��\n",
      "2\n",
      "�Ű7�.�\r",
      "����[�\b\u001b\u0019���\u001e",
      "�\u001d",
      "\u001c",
      "�T\\\u001b\u0019\\�\u001c",
      "��\u0019&^�\u001c",
      "�\\�4\u001a[�\u0018[��Z\\��t\u0010[�\b\u0019�\u001bݕ\u001aK��\u0019ܚ[�\u0011�\\\u001a\u0018]\u001aX�[\u001b\n",
      "3\n",
      "And lordly tramples on distress in anguish. And flouting grin emphatically scornful.\n",
      "4\n",
      "�Ʌ��1�|��\u0018�\u0005���ɕ�̛����y�ե͠\u0018�\u0005�������K�����ɥ���\u0015�ѥ����ہ͍�ɹ�՞�G\u0010�DF\u0018�\u001c",
      "[�R\n",
      "5\n",
      "\u0004\u0016�6'&�72n&�e\u0005�wV�6�i\u0004\u0012f�\n",
      "f��Q.&�r\u0006w^��\u0005�l\u0017F�6\u0016f�qnv6�&�glz� B�\u0011\u0018b%q`qI�d�{t\u0017%tq��\n",
      "6\n",
      "m�\u0017\u0005�f\\�\u0001��\tfX)�\u001b�D����\u0007�z[�\u0016���\u0018]\u001a`�Y��Ű��ܛ����[��Da��́�'\u001c",
      "�e��Y���/�\u0018����ͨ�7'\u001b\n",
      "7\n",
      "%�f�h/u\u0012�\u0005�\u0011\u001fu�n [\u0006���{��afnG\u0016org&vǒAnv�\u0011�\"W2\u0007\u0010tr���AfW7\u001c",
      "�\u0010d\u0006\u0016�kV�4ܜn&�B\u0006WƖס�A\n",
      "8\n",
      "Dz\u0017�x�l\u001b\u001ba�.�\r",
      "���\u001c",
      "[\u0003y�\u0019���\u001e",
      "I\u0005�؄F\u001b\u0019\\�\u001b����^�\u0005�\\�q���h[��Z\\�rq���\b\u0019�\u001a]^�A\u0005�\u0019ܛۈ\u0019Q���\n",
      "9\n",
      "�h6�f�ql\r",
      "��frgly$\u0016�B\u0006ples o\u0007G/\u0015\u001btress&�\u0006I�nf�isM\u0006��\u0006\u0014 flouz\u001d",
      "\u0004\u0016�grin eF��r\u0004ib!llv�\u0006�\u0017\n",
      "10\n",
      "�ɑ��[�\b\u001b\u0011��́�\u001d",
      "\u001c",
      "�[\\�ɕ�̛�\u0019\u001a\\ٝե͠\u001a[�\u0018[�����ˈ\u0010[�\r",
      "ɥ���\u001a[��\u0019������\\\u001a\u0018]\u0019��հ�H\u001c",
      "���\n",
      "11\n",
      "�U�\u0006�tramrG&W72n Ai�twV�6�in&a^jf��Q. And &��\u0006Plng gv6\u0016f�m|(ati�gVz� scorb,qnqI�/�\u0011�\n",
      "12\n",
      "�\u001c",
      "�ɸ�\u0005�͉�Z\\�\u0001���Ay��\u001b�D��\u0004����[�\u0016��������Y�\u001d",
      "Ű��ѥ���뤃���ɹ�Ł�'\u0010�DF\u0018����/�\u0019&^�\u0005\n",
      "13\n",
      "�sh\u0006��e\u0005�w\\ou\u0012�\u0005�Y�\n",
      "fn [\u0006��b\u0001�^�fnG\u0016\u0017F�6vǮAnv6�&�g2\u0007\u0014�r�\u0011\u0018b%WG\u001c",
      "�\u0010d�{t\u0016f�\u0004ܜn anf�\n"
     ]
    }
   ],
   "source": [
    "# Note: since len(key2) divides len(key1) there won't be any extra padding added for second columnar transposition\n",
    "for n in range(len(key1)):\n",
    "    # make last columnar\n",
    "    col_trans = make_columnar(ct, key2)\n",
    "    # compute intermediate ciphertext\n",
    "    cp_2 = compute_op(ct, col_trans, key2)\n",
    "    # make first columnar\n",
    "    col_trans2 = make_columnar(cp_2, key1)\n",
    "    # compute base64 text\n",
    "    pt64 = compute_op(cp_2, col_trans2, key1)\n",
    "    # rotate keys left by one position        \n",
    "    key1.rotate(-1)\n",
    "    key2.rotate(-1)\n",
    "    # print plaintext\n",
    "    print(n)\n",
    "    try:\n",
    "        print(pt64.decode('base64'))\n",
    "    except Exception:\n",
    "        pass"
   ]
  },
  {
   "cell_type": "markdown",
   "metadata": {},
   "source": [
    "<big><b>EXERCISE 3</b></big>"
   ]
  },
  {
   "cell_type": "code",
   "execution_count": 635,
   "metadata": {},
   "outputs": [],
   "source": [
    "C = ['A', 'D', 'F', 'G', 'V', 'X']\n",
    "map = {'A':0, 'D':1, 'F':2, 'G':3, 'V':4, 'X':5}"
   ]
  },
  {
   "cell_type": "code",
   "execution_count": 746,
   "metadata": {},
   "outputs": [],
   "source": [
    "def calculate_inv(perm):\n",
    "    perm_inv=[]\n",
    "    for i in range(len(perm)):\n",
    "        perm_inv.append(perm.index(i))\n",
    "    return tuple(perm_inv)"
   ]
  },
  {
   "cell_type": "markdown",
   "metadata": {},
   "source": [
    "<big>QUESTION 1</big>"
   ]
  },
  {
   "cell_type": "code",
   "execution_count": 838,
   "metadata": {},
   "outputs": [],
   "source": [
    "#a_y=\"DADXFGFGXDFFXGGAFFFGAGGDFGADAXVDDFG\"\n",
    "#a_S='MP8ZTQYC0E5OLAFXK3RIH749WBJ6U2SGNV1D'\n",
    "#a_c=\"G\"\n",
    "#a_s=(0, 1, 4, 5, 3, 2, 6)\n",
    "#a_s_inv=calculate_inv(a_s)\n",
    "#a_n=16\n",
    "a_y=\"AXFDGGAVAVGVAGFGFVVGAVAGGAAXAGVXVGX\"\n",
    "a_S='N26SEU9B30KI148FROVG5A7HPWJXQTMZCYLD'\n",
    "a_c=\"G\"\n",
    "a_s=(6, 3, 2, 5, 0, 4, 1)\n",
    "a_n=16"
   ]
  },
  {
   "cell_type": "code",
   "execution_count": 827,
   "metadata": {},
   "outputs": [],
   "source": [
    "def make_table(y, s):\n",
    "    depth = len(y)/len(s)\n",
    "    table = \"\"\n",
    "    for i in range(depth):\n",
    "        for j in range(len(s)):\n",
    "            table = table + y[i+j*depth]\n",
    "    return table\n",
    "\n",
    "def inversion(table, s_inv):\n",
    "    depth = len(table)/len(s_inv)\n",
    "    inv_sigma_table = \"\"\n",
    "    for i in range(depth):\n",
    "        for s in s_inv:\n",
    "            inv_sigma_table += table[i*len(s_inv)+s]\n",
    "    return inv_sigma_table\n",
    "\n",
    "def decode(c1, c2, S):\n",
    "    return S[map[c1]*6+map[c2]]\n",
    "\n",
    "def decode_cp(pt_len, table_inv, S):\n",
    "    pt = \"\"\n",
    "    for i in range(pt_len):\n",
    "        pt = pt + decode(table_inv[2*i], table_inv[2*i+1], S)\n",
    "    return pt"
   ]
  },
  {
   "cell_type": "code",
   "execution_count": 839,
   "metadata": {},
   "outputs": [
    {
     "name": "stdout",
     "output_type": "stream",
     "text": [
      "SNATNQORMEWNAX7A\n"
     ]
    }
   ],
   "source": [
    "table_ct = make_table(a_y, a_s)\n",
    "table_inv = inversion(table_ct, a_s_inv)\n",
    "pt = decode_cp(a_n, table_inv, a_S)\n",
    "print(pt)"
   ]
  },
  {
   "cell_type": "markdown",
   "metadata": {},
   "source": [
    "<big>QUESTION 2</big>"
   ]
  },
  {
   "cell_type": "code",
   "execution_count": 902,
   "metadata": {},
   "outputs": [],
   "source": [
    "P = string.punctuation + string.whitespace\n",
    "#C = {'A', 'B', 'C', 'D', 'E', 'F', 'G', 'H', 'I', 'J', 'K', 'L', 'M', 'N', 'O', 'P', 'Q', 'R', 'S', 'T', 'U', 'V', 'W', 'X', 'Y', 'Z', '0', '1', '2', '3', '4', '5', '6', '7', '8', '9'}\n",
    "C = \"ABCDEFGHIJKLMNOPQRSTUVWXYZ0123456789\""
   ]
  },
  {
   "cell_type": "code",
   "execution_count": 843,
   "metadata": {},
   "outputs": [],
   "source": [
    "#b_x=\"WELCOME TO THE BONFIRE, UNKINDLED ONE. I AM A FIRE KEEPER. I TEND TO THE FLAME, AND TEND TO THEE. THE LORDS HAVE LEFT THEIR THRONES, AND MUST BE DELIVER'D TO THEM. TO THIS END, I AM AT THY SIDE.\"\n",
    "#b_S='FY9S0HAXLVP6G5DJMTCROZ14K2E8QINUWB37'\n",
    "#b_c=\"X\"\n",
    "#b_s=(3, 6, 10, 9, 1, 4, 0, 11, 2, 5, 12, 8, 7)\n",
    "b_x=\"WELCOME TO THE BONFIRE, UNKINDLED ONE. I AM A FIRE KEEPER. I TEND TO THE FLAME, AND TEND TO THEE. THE LORDS HAVE LEFT THEIR THRONES, AND MUST BE DELIVER'D TO THEM. TO THIS END, I AM AT THY SIDE.\"\n",
    "b_S='LRIADE58SFJG1PUV27WK43XYB6CZH9TQNMO0'\n",
    "b_c=\"D\"\n",
    "b_s=(7, 9, 10, 12, 6, 11, 4, 2, 1, 8, 5, 3, 0)"
   ]
  },
  {
   "cell_type": "code",
   "execution_count": 841,
   "metadata": {},
   "outputs": [],
   "source": [
    "def substitution(c, S):\n",
    "    if c in P:\n",
    "        return c+c\n",
    "    else:\n",
    "        indx = S.find(c)\n",
    "        c1 = C[indx // 6]\n",
    "        c2 = C[indx % 6]\n",
    "        return c1+c2\n",
    "\n",
    "def encode(x, S):\n",
    "    enc = \"\"\n",
    "    for c in x:\n",
    "        enc = enc + substitution(c, S)\n",
    "    return enc\n",
    "\n",
    "def add_padding(text, c, s):\n",
    "    return text + c * (len(s) - (len(text)%len(s)))\n",
    "\n",
    "def permute(text, s_perm):\n",
    "    depth = len(text)/len(s_perm)\n",
    "    text_sigma = \"\"\n",
    "    for i in range(depth):\n",
    "        for s in s_perm:\n",
    "            text_sigma = text_sigma + text[i*len(s_perm)+s]\n",
    "    return text_sigma\n",
    "\n",
    "def print_table(table, num_row, num_col):\n",
    "    cp=\"\"\n",
    "    for i in range(num_col):\n",
    "        for j in range(num_row):\n",
    "            cp = cp + table[i+j*num_col]\n",
    "    return cp"
   ]
  },
  {
   "cell_type": "code",
   "execution_count": 844,
   "metadata": {},
   "outputs": [
    {
     "name": "stdout",
     "output_type": "stream",
     "text": [
      "F V VAGAXA AF X  AXXGXXAV XAAAVXFFA.  DXAXVXXAVDFXF A XXFXV.XADFA.A .FVG A.AAGAFA A XAAGG.AVAFA  D VAXXV VFA X AFA.V,  DVVX,AFXDAA AXVAX AADAFA'VVA XVGVGXX GG.AVA X.XGXDAVVFXGVV XDAAVXXVAFF XGAFVVD VV FADXA F FA  DA  GAFX  XXAAXXA,G X  D XFA XAD FDXA  ,A XDA XFXXAV F GDX X AX XAXXGA A VXAVXAAVA XGVXAXA,FXGADXVAGAVAFAVA DV'AX   AXX AFX AX AD XAVV AV,F A XFAAAGXAFGVA A  X,A  AG  D AGX.A,A \n"
     ]
    }
   ],
   "source": [
    "text_substitution = encode(b_x, b_S)\n",
    "text_w_padding = add_padding(text_substitution, b_c, b_s)\n",
    "text_sigma_perm = permute(text_w_padding, b_s)\n",
    "b_cp = print_table(text_sigma_perm, len(text_sigma_perm)/len(b_s), len(b_s))\n",
    "print(b_cp)"
   ]
  },
  {
   "cell_type": "markdown",
   "metadata": {},
   "source": [
    "<big>QUESTION 3</big>"
   ]
  },
  {
   "cell_type": "code",
   "execution_count": 960,
   "metadata": {},
   "outputs": [],
   "source": [
    "#c_y1=\"D VV DGXDX V FGFDX AF,GF FDA..XXFXDVGVVV V DV DXXDX VVXX VXXDXXXGVGXADDVAAXXA DG XXXFX DVV VXXXVGVXDDXXXXX VAFDV. AV VAFDDADGDVGGD FFX DV VFVVAV D DV FVVVVF VGV XVD, DVGFV X DADVDDGD DV DGXX VGFF G VX DDXXVXDGFGDDVAXXXDV DFX V DV DXXA VGFVVDGFFD,XX AFGF GXG G DFV,DVFXGVDV D DV DXXDX VVXXXDXDV G AXXVXVDXDVGXVAXVDDGXDVDVF G AXFXGFDVXDDVDV DV XXAXDGF VX...FDDG DG FV G  XDFF DV AF AF.. DVV V FFXX G AXGFDVDVAXDD. VGFF DVFDV VDF VADGVAFV VVDVF AXF GDGDVV D XDG DV VGXXX.XXA VGFFDV GXXVV, GXF AXDXFXAXA G AXGAXXDDA VFX VDG,AF GFXDDFVGVGX AF AXDVDDF GGVVVADXD GVAD D GDVDV GDV FF FXF G AXGFDX. VVXD FDXDF DV VVVVAFVVVAGFVD V VXFGVG V AXGFDVDVAXDD D GXXVVXX VDDXF VAF D VVFDV F FGAVAXX VAFDV D FAVX AXVGFAVXVXDXD... XGXXVV GDDVD DXXAGF, DVDAF.. AXV A GVADDVXX XDFXV VGFV.AXVVD ADAFF VXF FVVG XXXFXDFVXXXDVDVVVDDA V VFV AXFXGFDV DDVAXDVXVX VGGXX,GVVVXX XDXFVDGVAXX GADFVGVXDGDFDAF XA DX V XGAXFX VVXX XGVVXGFXX D AFVAVGXA V DVXFG VFV GXVVVVDVXX XDFF.AXDDF GVDX, AXGDGX FVX D VXD, A VDFVGXXDXX XDFXV VGFV V VD D DV FVDVD AVV G FXXVG G FG D DV VGXXX V AVADXX DVVAXGX AFV..V\"\n",
    "#c_S='W\\x00\\x00P\\x00H\\x003\\x001I\\x00\\x00075\\x00\\x00\\x004\\x00M\\x00G6\\x00Z28\\x009\\x00B\\x00\\x00X'\n",
    "#c_c=\"V\"\n",
    "#c_H=\"c50688adcb123041c61e51dc2fe52ddc\"\n",
    "#c_x0=\"OBI-WAN: IT'S OVER, ANAKIN! I HAVE THE HIGH GROUND! ANAKIN SKYWALKER: YOU UNDERESTIMATE MY POWER! OBI-WAN: DON'T TRY IT.\"\n",
    "#c_y0=\"VF-AG:DDA XX, GFDV VAFV AXAVA FDGX FDDG AADXVV AG GXFXXVDD G GAX! XVAF: VVX FADDDD-DV V'VVGF,DVAV!  XXXXX XGXGVGV! GFDVADAFAX: VFGVVVADGFV F VAF!VF-AG:FD'DXV V.XVAF: X' DVV FDDG!D DG DV DX XVFF!DVAV VFADDF:FD FFXVVDGXXGAADVV DD-DV XG' DF X.\"\n",
    "\n",
    "##############################################\n",
    "\n",
    "c_y1=\"GDVG DA GX A  VDGA VF AG XG.. FG!VD FDFDV V AFADVG AXG VDVG D DV FDDFD DD FGX AFG XXG. XFV GFXFXF V DVDDVVA FDFDAVVGDXFV.DGV VFAVG XV, XFAVAXDDXFDXDFXF, VGGG VDFXF, VADFDDDGX XFGFFDDAVGDDD AXFVAGDF AVGVFXFDGDGDG, VGVFXAVD VDGVV AAGV.VAVD ADGVDDDXFDXVFA VDXGD X DF DV VAVVX VGVG FVDVDDFVGFGDFXVVGV,VF AXVFGGDD VG GXFDFVD ADAXGVVGFVF DV VGDV AVGVFXF..VV XG DXFVV V GGGVX AG,AG GVD..XG! XFGFFDDADAVFXDDG FXF GVGFAGDVD FVDVA AVDDVX,VVADXVFF DVF GV VFVAXGGVX DXD.VVD D VFAFVF. A  AFGDG AVF DV DFXVX GVX VGVF VAFVFGFVVFA DD XFV AD DV VGGFV VGVG GX DXVGVXVDAADFG VFVDAF FVXG A XFGGVADADFVD. D XFDFVFVVV GVX GA GVFDD D AVFVD DDVGF ADVVFXVX XFG VFVDV XAVV, XVGFD AVXD FVXV VAVFVFXVDVA X VAFFVD ADDVFVDAADFG... FAVVVV GVDGV VFFDAG, VFVFA.. VF DV VGGFV D GFGFAVFGVFVDVAD A XFGFXFDADVX XF, XFV XVF.VDGFVF DGVD A XD AXF. VV V FVFXDGF V GDDAGAVXVV,VD AVGDA XXV FVXG,GFVFD GVVVD,XG AVG VVVVD FDFDV ADVVFVG GXGDGX XGVFDV GDGVVV,DFXF V DV VFVDV VGVF G DV VGGGDA XXV GXDVDVAVAVVAFV XFGFDFVXVGDDD DD DVV VDFGF DDDGF DX VX GDVVADFX  XDGGGV DADV D FDAV XFVGVVV XGVFDV...V\"\n",
    "c_S='\\x00\\x00Z\\x0056S2\\x00\\x00\\x00901\\x00\\x007X\\x00\\x00\\x003\\x008CT\\x00A\\x004M\\x00WQ\\x00\\x00'\n",
    "c_c=\"V\"\n",
    "c_H=\"9039a356afa30b590ce8e5e32b3b9364\"\n",
    "c_x0=\"OBI-WAN: IT'S OVER, ANAKIN! I HAVE THE HIGH GROUND! ANAKIN SKYWALKER: YOU UNDERESTIMATE MY POWER! OBI-WAN: DON'T TRY IT.\"\n",
    "c_y0=\"VD-VG V'AXVG,VGFV!  DVFVD DGDGFFG! AGDGDGXGFF: XFFGVFDDXGV A XFG!XD-FA:XV'DVF V.XD-FA:DDD VF, AGDG VXGV XFXVX GVAX GVGA FDVFVF DF AXGFVVVD A GXF! GVXG: XGV GDDDGVXG: V' VVF GVGA!D VV DV DV VXFX!VGFV AAFDGG:AV FXFVADAVFXDDVVF VD-VG XA' DA V.\""
   ]
  },
  {
   "cell_type": "code",
   "execution_count": 970,
   "metadata": {},
   "outputs": [
    {
     "name": "stdout",
     "output_type": "stream",
     "text": [
      "A LONG TIME AGO IN A GALAXY FAR, FAR AWAY... WAR! THE REPUBLIC IS CRUMBLING UNDER ATTACKS BY THE RUTHLESS SITH LORD, COUNT DOOKU. THERE ARE HEROES ON BOTH SIDES. EVIL IS EVERYWHERE. IN A STUNNING MOVE, THE FIENDISH DROID LEADER, GENERAL GRIEVOUS, HAS SWEPT INTO THE REPUBLIC CAPITAL AND KIDNAPPED CHANCELLOR PALPATINE, LEADER OF THE GALACTIC SENATE. AS THE SEPARATIST DROID ARMY ATTEMPTS TO FLEE THE BESIEGED CAPITAL WITH THEIR VALUABLE HOSTAGE, TWO JEDI KNIGHTS LEAD A DESPERATE MISSION TO RESCUE THE CAPTIVE CHANCELLOR....\n"
     ]
    }
   ],
   "source": [
    "#generate c_s_inv\n",
    "flag=False\n",
    "for l in [2, 3, 4, 5, 6]:\n",
    "    if(len(c_y1)%l==0 and not flag):\n",
    "        for c_s_inv in itertools.permutations(range(l), l):\n",
    "            \n",
    "            if(flag):\n",
    "                break\n",
    "            \n",
    "            phi_c_x0=calculate_phi_x(c_y0, c_s_inv)\n",
    "            try:\n",
    "                c_S_filled = calculate_sub_matrix(c_x0, phi_c_x0, c_S)\n",
    "            except:\n",
    "                continue\n",
    "            missing_values = [c for c in C if c not in c_S_filled]\n",
    "            missing_indices = [i for i in range(len(c_S_filled)) if str(c_S_filled)[i]==\"\\x00\"]\n",
    "            \n",
    "            for p in itertools.permutations(missing_indices):\n",
    "                counter=0\n",
    "                for i in p:\n",
    "                    c_S_filled[i] = missing_values[counter]\n",
    "                    counter += 1\n",
    "                pt = decode_ciphertext2(c_y1, c_s_inv, str(c_S_filled))\n",
    "                pt = pt.strip(str(c_S_filled)[map[c_c]*6+map[c_c]])\n",
    "                #calculate hash\n",
    "                r = base64.b64encode(pt)\n",
    "                H_pt = hashlib.md5(r).hexdigest()\n",
    "                if(H_pt==c_H):\n",
    "                    print(pt)\n",
    "                    flag=True\n",
    "                    break\n",
    "            \n",
    "            "
   ]
  },
  {
   "cell_type": "code",
   "execution_count": 969,
   "metadata": {},
   "outputs": [],
   "source": [
    "def decode_ciphertext2(cp, s_inv, S):\n",
    "    table_ct = make_table(cp, s_inv)\n",
    "    table_inv = inversion(table_ct, s_inv)\n",
    "    #print(table_inv) #used to obtained phi_pt\n",
    "    pt = decode_cp_withp(len(cp)/2, table_inv, S)\n",
    "    return pt\n",
    "\n",
    "def calculate_phi_x(cp, s_inv):\n",
    "    table_ct = make_table(cp, s_inv)\n",
    "    table_inv = inversion(table_ct, s_inv)\n",
    "    return table_inv\n",
    "\n",
    "def decode_cp_withp(n, table, S):\n",
    "    decoded = \"\"\n",
    "    for i in range(n):\n",
    "        dec=\"\"\n",
    "        if((table[2*i] not in P and table[2*i+1] in P) or \n",
    "           (table[2*i] in P and table[2*i+1] not in P)):\n",
    "            return\n",
    "        elif(table[2*i] in P):\n",
    "            dec = table[2*i]\n",
    "        else:\n",
    "            dec = decode(table[2*i], table[2*i+1], S)\n",
    "                \n",
    "        decoded = decoded + dec\n",
    "        \n",
    "    return decoded\n",
    "\n",
    "def calculate_sub_matrix(pt, phi_pt, S):\n",
    "    S_ba = bytearray(S)\n",
    "    for i in range(len(pt)):\n",
    "        if(phi_pt[2*i] not in P):\n",
    "            c1 = phi_pt[2*i]\n",
    "            c2 = phi_pt[2*i+1]\n",
    "            S_ba[map[c1]*6+map[c2]]=pt[i]\n",
    "            \n",
    "    return S_ba\n",
    "    "
   ]
  },
  {
   "cell_type": "markdown",
   "metadata": {},
   "source": [
    "<big>QUESTION 4</big>"
   ]
  },
  {
   "cell_type": "code",
   "execution_count": 954,
   "metadata": {},
   "outputs": [],
   "source": [
    "#d_y1=\"FAFGD A D XD' G XXVFVV V V DX' G XVXD GXVDXVGXGDGGGXAVG A VAXVGAV V.FVGG F FVVAAVX X.AD  XA GVXX. VDFX FXDXAVV GFXDAGFXX GAAFAXG   VF AXV VVGVVDD   AX VXGVG VVXXFGGFAGDGG VVGVDGG GXVVVVAXDV  VV VAVF. XGVX\"\n",
    "#d_S='\\x00\\x00\\x00\\x00\\x00\\x00\\x0043\\x00\\x00\\x00\\x00C\\x005\\x00\\x001\\x007\\x00\\x000\\x002Z\\x00B\\x00P\\x00\\x00X\\x008'\n",
    "#d_c=\"X\"\n",
    "#d_s=(4, 5, 1, 3, 2, 8, 6, 10, 11, 0, 7, 9)\n",
    "#d_s_inv=calculate_inv(d_s)\n",
    "#d_H=\"aa5bd637f87f6c7e0ed64641995a0332\"\n",
    "#d_x0=\"OBI-WAN: IT'S OVER, ANAKIN! I HAVE THE HIGH GROUND! ANAKIN SKYWALKER: YOU UNDERESTIMATE MY POWER! OBI-WAN: DON'T TRY IT.\"\n",
    "#d_y0=\"A AG!F F!AG:XDXAAV' G VV!F A!GG:DVVVVX' VXV,GDDDXVXVDVV !GVVV:  XVV FXGV VAA VXGV:  VGX XDDF XVX GVDGVXGA AAG FDXAAXA  V-AFV XGF VG VV GV:VAG'FD VFXVDDAXADF-XV.V'VX AADXVXVVDGV-FA.AVD,AGGGVGDXXFG !GAF-GFX VDV XV XA GV:AGGAVVG GVV XGFGDVG  A\"\n",
    "#phi_d_x0 calculated using decode_ciphertext2\n",
    "#phi_d_x0 = \"AVVVAG--GGGVVX::  AGVA''DV  AVFFXVFV,,  GVVXGVDXAGVX!!  AG  GDGVFFXV  VAGDXV  GDAGFAGD  FAFVAVXDVXXF!!  GVVXGVDXAGVX  DVDXDGGGGVFXDXXVFV::  DGAVXD  XDVXXFXVFVXVDVVAAGADGVVAXV  ADDG  XAAVGGXVFV!!  AVVVAG--GGGVVX::  XFAVVX''VA  VAFVDG  AGVA..\"\n",
    "\n",
    "###################################\n",
    "\n",
    "d_y1=\"X XG GVVGXD AFVXDXXGGXF  X VXG GG.XXXFX FV.X.X.XA VGXF XFVXAGG.DXGFXFXFXFV  A XXV DA.AVAXDV.AXXAVADFFXA ,A AVV X.  A AVG ,G XGF D.  A GVVXX AGXXVVV.VFXVFX FV XXXFXX VVXFFAGAXAF.AVVAGXGDDVDVVDD XD.F.V.FX V\"\n",
    "d_S='\\x00\\x00\\x00\\x00\\x00\\x00\\x00\\x00\\x00X\\x00\\x007KJ\\x00\\x00\\x00\\x00\\x00\\x003\\x00\\x000ZQ98\\x00\\x00M\\x0064\\x00'\n",
    "d_c=\"V\"\n",
    "d_s=(2, 6, 9, 0, 7, 5, 11, 10, 1, 3, 4, 8)\n",
    "d_s_inv=calculate_inv(d_s)\n",
    "d_H=\"774da77cd7e07607e136e50cc885958d\"\n",
    "d_x0=\"OBI-WAN: IT'S OVER, ANAKIN! I HAVE THE HIGH GROUND! ANAKIN SKYWALKER: YOU UNDERESTIMATE MY POWER! OBI-WAN: DON'T TRY IT.\"\n",
    "d_y0=\"A:  DAV GFAA VGD ADA-GDD VXA DA DG FA:GGGVXVX XFV VDDXDXX  VXDX,GXXXDAFVDAA !FXA-XAF XXA FV FV GF:VXX FV!A A!XG:XAXFFF' V'AD VAXFADFXDDA-DV.A'AF GGDDXFXVXAA-GG.FFA,XXXXFVDXXAV !GFAF:  FVX DDDA XVV VFDG XA!D G!GF:DXVXXD' FGVAG GXA FAGGXVG  G\"\n",
    "phi_d_x0=calculate_phi_x(d_y0, d_s_inv)"
   ]
  },
  {
   "cell_type": "code",
   "execution_count": 955,
   "metadata": {},
   "outputs": [
    {
     "name": "stdout",
     "output_type": "stream",
     "text": [
      "RYB\u0000A\u0000V\u0000NXPU7KJWL\u0000GD\u00003TI0ZQ98ESMO64H\n",
      "['C', 'F', '1', '2', '5']\n",
      "[3, 5, 7, 17, 20]\n",
      "THROUGH THE FORCE, THINGS YOU WILL SEE. OTHER PLACES. THE FUTURE... THE PAST. OLD FRIENDS LONG GONE.\n"
     ]
    }
   ],
   "source": [
    "d_S_filled = calculate_sub_matrix(d_x0, phi_d_x0, d_S)\n",
    "print(d_S_filled)\n",
    "missing_values = [c for c in C if c not in d_S_filled]\n",
    "missing_indices = [i for i in range(len(d_S_filled)) if str(d_S_filled)[i]==\"\\x00\"]\n",
    "print(missing_values)\n",
    "print(missing_indices)\n",
    "# permute all indices\n",
    "for p in itertools.permutations(missing_indices):\n",
    "    counter=0\n",
    "    for i in p:\n",
    "        d_S_filled[i] = missing_values[counter]\n",
    "        counter += 1\n",
    "    pt = decode_ciphertext2(d_y1, d_s_inv, str(d_S_filled))\n",
    "    pt = pt.strip(str(d_S_filled)[map[d_c]*6+map[d_c]])\n",
    "    #calculate hash\n",
    "    r = base64.b64encode(pt)\n",
    "    H_pt = hashlib.md5(r).hexdigest()\n",
    "    if(H_pt==d_H):\n",
    "        print(pt)\n",
    "        break\n"
   ]
  }
 ],
 "metadata": {
  "kernelspec": {
   "display_name": "SageMath 8.1",
   "language": "",
   "name": "sagemath"
  },
  "language_info": {
   "codemirror_mode": {
    "name": "ipython",
    "version": 2
   },
   "file_extension": ".py",
   "mimetype": "text/x-python",
   "name": "python",
   "nbconvert_exporter": "python",
   "pygments_lexer": "ipython2",
   "version": "2.7.17"
  }
 },
 "nbformat": 4,
 "nbformat_minor": 2
}
