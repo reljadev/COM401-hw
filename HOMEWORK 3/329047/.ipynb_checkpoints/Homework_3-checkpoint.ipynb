{
 "cells": [
  {
   "cell_type": "code",
   "execution_count": 2,
   "metadata": {},
   "outputs": [],
   "source": [
    "def getVarFromFile(filename):\n",
    "    import importlib.machinery\n",
    "    import importlib.util\n",
    "    loader = importlib.machinery.SourceFileLoader('data', filename)\n",
    "    spec = importlib.util.spec_from_loader(loader.name, loader)\n",
    "    global data\n",
    "    data = importlib.util.module_from_spec(spec)\n",
    "    loader.exec_module(data)\n",
    "\n",
    "personal_path = '329047-parameters.txt'\n",
    "test_path = '123-params.txt'\n",
    "getVarFromFile(test_path)"
   ]
  },
  {
   "cell_type": "markdown",
   "metadata": {},
   "source": [
    "<big><b>EXERCISE 1</b></big>"
   ]
  },
  {
   "cell_type": "code",
   "execution_count": 41,
   "metadata": {},
   "outputs": [],
   "source": [
    "Q1_N = data.Q1_N\n",
    "Q1_e = data.Q1_e\n",
    "Q1_L_mod = data.Q1_L_mod\n",
    "Q1_L_x = data.Q1_L_x"
   ]
  },
  {
   "cell_type": "code",
   "execution_count": 42,
   "metadata": {},
   "outputs": [],
   "source": [
    "for Ni in Q1_L_mod:\n",
    "    p = gcd(Q1_N, Ni)\n",
    "    if p != 1:\n",
    "        break"
   ]
  },
  {
   "cell_type": "code",
   "execution_count": 46,
   "metadata": {},
   "outputs": [
    {
     "name": "stdout",
     "output_type": "stream",
     "text": [
      "True\n"
     ]
    }
   ],
   "source": [
    "print(is_prime(p))\n",
    "qr = ZZ(Q1_N / p)"
   ]
  },
  {
   "cell_type": "code",
   "execution_count": 47,
   "metadata": {},
   "outputs": [
    {
     "name": "stdout",
     "output_type": "stream",
     "text": [
      "9\n"
     ]
    }
   ],
   "source": [
    "for i in range(len(Q1_L_x)):\n",
    "    if Q1_L_x[i][0]!=Q1_L_x[i][1]:\n",
    "        indx = i\n",
    "        break\n",
    "\n",
    "print(indx)\n",
    "pt, d_ct = Q1_L_x[indx]"
   ]
  },
  {
   "cell_type": "code",
   "execution_count": 48,
   "metadata": {},
   "outputs": [
    {
     "data": {
      "text/plain": [
       "True"
      ]
     },
     "execution_count": 48,
     "metadata": {},
     "output_type": "execute_result"
    }
   ],
   "source": [
    "mod(pt, p) == mod(d_ct, p)"
   ]
  },
  {
   "cell_type": "code",
   "execution_count": 49,
   "metadata": {},
   "outputs": [
    {
     "name": "stdout",
     "output_type": "stream",
     "text": [
      "True\n",
      "True\n",
      "True\n",
      "False\n",
      "False\n",
      "False\n",
      "True\n"
     ]
    }
   ],
   "source": [
    "#x = mod(pt, qr)\n",
    "#x_prime = mod(d_ct, qr)\n",
    "q = gcd(pt-d_ct, qr)\n",
    "r = ZZ(qr / q)\n",
    "print(is_prime(p))\n",
    "print(is_prime(q))\n",
    "print(is_prime(r))\n",
    "print(p==q)\n",
    "print(p==r)\n",
    "print(q==r)\n",
    "print(Q1_N == (p*q*r))\n",
    "\n",
    "phi_N = (p-1)*(q-1)*(r-1)\n",
    "d = inverse_mod(Q1_e, phi_N)"
   ]
  },
  {
   "cell_type": "code",
   "execution_count": 51,
   "metadata": {},
   "outputs": [
    {
     "name": "stdout",
     "output_type": "stream",
     "text": [
      "pharaoh55\n"
     ]
    }
   ],
   "source": [
    "import hashlib\n",
    "\n",
    "Q1_ct_RSA = data.Q1_ct_RSA\n",
    "Q1_ct_pwd = data.Q1_ct_pwd\n",
    "\n",
    "R = Integers(Q1_N)\n",
    "a = R(Q1_ct_RSA)\n",
    "x_key = ZZ(a^d)\n",
    "\n",
    "key = hashlib.sha512(str(x_key).encode('ascii')).digest()\n",
    "m = bytes(a ^^ b for (a, b) in zip(key, Q1_ct_pwd))\n",
    "print(m.decode('ascii'))"
   ]
  },
  {
   "cell_type": "markdown",
   "metadata": {},
   "source": [
    "<big><b>EXERCISE 2</b></big>"
   ]
  },
  {
   "cell_type": "code",
   "execution_count": 78,
   "metadata": {},
   "outputs": [],
   "source": [
    "Q2_k = data.Q2_k\n",
    "Q2_G = data.Q2_G\n",
    "Q2_ciphertexts = data.Q2_ciphertexts "
   ]
  },
  {
   "cell_type": "code",
   "execution_count": 79,
   "metadata": {},
   "outputs": [
    {
     "name": "stdout",
     "output_type": "stream",
     "text": [
      "818\n",
      "[(61, 61), (1319, 4), (1883, 4), (1909, 4), (1669, 4), (1433, 3), (1579, 3), (1793, 3), (1259, 3), (1723, 3)]\n"
     ]
    }
   ],
   "source": [
    "print(Q2_k)\n",
    "exponents = [e for N,e in Q2_G]\n",
    "num_of_exp = {e:exponents.count(e) for e in exponents}\n",
    "import operator\n",
    "sorted_noe = sorted(num_of_exp.items(), key=operator.itemgetter(1), reverse=True)\n",
    "print(sorted_noe[:10])"
   ]
  },
  {
   "cell_type": "code",
   "execution_count": 80,
   "metadata": {},
   "outputs": [
    {
     "name": "stdout",
     "output_type": "stream",
     "text": [
      "705042596582157880382819988\n"
     ]
    }
   ],
   "source": [
    "small_exp = sorted_noe[0][0]\n",
    "remainders = []\n",
    "moduli = []\n",
    "for i in range(Q2_k):\n",
    "    if Q2_G[i][1] == small_exp:\n",
    "        remainders.append(Q2_ciphertexts[i])\n",
    "        moduli.append(Q2_G[i][0])\n",
    "m_exp = CRT_list(remainders, moduli)\n",
    "print(m_exp^(1/small_exp))"
   ]
  },
  {
   "cell_type": "markdown",
   "metadata": {},
   "source": [
    "<big><b>EXERCISE 3A</b></big>"
   ]
  },
  {
   "cell_type": "code",
   "execution_count": 181,
   "metadata": {},
   "outputs": [],
   "source": [
    "Q3a_e = ZZ(data.Q3a_e)\n",
    "Q3a_N = ZZ(data.Q3a_N)"
   ]
  },
  {
   "cell_type": "code",
   "execution_count": 182,
   "metadata": {},
   "outputs": [
    {
     "name": "stdout",
     "output_type": "stream",
     "text": [
      "1032671771770553847758184444937001839020394770768176909480719145263523827277732798293782651420057081508620026872997436757954296094349781306743484926843029810060447419425004800503194998191966295274434066908596422357062670874692763067\n",
      "1552247184011206077597178405928627479752260679801635882417663485026400339979517492763896486027861576017987790002212618690418878946842041239588989562515497587574658841760267496929513539741730954152425310347975860813627609336556499969\n"
     ]
    }
   ],
   "source": [
    "e = Q3a_e\n",
    "N = Q3a_N\n",
    "cf = (e/N).continued_fraction()\n",
    "for a in cf.convergents():\n",
    "    h = a.numerator()\n",
    "    d = a.denominator()\n",
    "    if(h!=0 and (e * d - 1) % h == 0):\n",
    "        totient_N = (e * d - 1)/h\n",
    "        if(2313.powermod(totient_N, N) == 1): #change this hardcoded value\n",
    "            b = N - totient_N + 1; c = N\n",
    "            roots = solve([x^2-b*x+c==0],x)\n",
    "            for q in roots:\n",
    "                print(gcd(N, q.rhs()))"
   ]
  },
  {
   "cell_type": "code",
   "execution_count": 184,
   "metadata": {},
   "outputs": [
    {
     "name": "stdout",
     "output_type": "stream",
     "text": [
      "True\n",
      "True\n",
      "True\n"
     ]
    }
   ],
   "source": [
    "p = 1032671771770553847758184444937001839020394770768176909480719145263523827277732798293782651420057081508620026872997436757954296094349781306743484926843029810060447419425004800503194998191966295274434066908596422357062670874692763067\n",
    "q = 1552247184011206077597178405928627479752260679801635882417663485026400339979517492763896486027861576017987790002212618690418878946842041239588989562515497587574658841760267496929513539741730954152425310347975860813627609336556499969\n",
    "print(is_prime(p))\n",
    "print(is_prime(q))\n",
    "print(Q3a_N == p*q)"
   ]
  },
  {
   "cell_type": "markdown",
   "metadata": {},
   "source": [
    "<big><b>EXERCISE 3B</b></big>"
   ]
  },
  {
   "cell_type": "code",
   "execution_count": 3,
   "metadata": {},
   "outputs": [],
   "source": [
    "Q3b_e = data.Q3b_e\n",
    "Q3b_N = data.Q3b_N\n",
    "Q3b_c1 = data.Q3b_c1\n",
    "Q3b_c2 = data.Q3b_c2"
   ]
  },
  {
   "cell_type": "code",
   "execution_count": 4,
   "metadata": {},
   "outputs": [],
   "source": [
    "p = random_prime(2^1024)\n",
    "q = random_prime(2^1024)\n",
    "N2 = p*q\n",
    "r1 = ZZ.random_element(0,2^16)\n",
    "r2 = ZZ.random_element(0,2^16)\n",
    "k = 2^floor(RR(log(N2, 2)) / 9)\n",
    "m = ZZ.random_element(0,2^1000)\n",
    "z1 = (k*m+r1).powermod(3, N2)\n",
    "z2 = (k*m+r2).powermod(3, N2)\n",
    "#print(z1)\n",
    "#print(z2)"
   ]
  },
  {
   "cell_type": "code",
   "execution_count": 7,
   "metadata": {},
   "outputs": [
    {
     "name": "stdout",
     "output_type": "stream",
     "text": [
      "121889096482031140693642765541626316904344625211431425864274176120750298992445125505665031361693744235224501866522911343593244823986917010637760998482766820581796043175042060060320179430697777836444253720487362812225200494621292517308516237099913968606580104655793300501040576489442869377298970818913673480330906977182931968703791985905791827258077340624380478506517618225160220507276694756820594146644466127966775947311039078152045750778158265976017131706969340621125515361829022029407390059209852712290987164110148455905558819418982907391183544712485055403879702525053404138027583277242492047203615476374206714434\n",
      "0\n",
      "121889096482031140693642765541626316904344625211431425864274176120750298992445125505665031361693744235224501866522911343593244823986917010637760998482766820581796043175042060060320179430697777836444253720487362812225200494621292517308516237099913968606580104655793300501040576489442869377298970818913673480330906977182931968703791985905791827258077340624380478506517618225160220507276694756820594146644466127966775947311039078152045750778158265976017131706969340621125515361829022029407390059209852712290987164110148455905558819418982907391183544712485055403879702525053404138027583277242492047203615476374206714434\n",
      "121889096482031140693642765541626316904344625211431425864274176120750298992445125505665031361693744235224501866522911343593244823986917010637760998482766820581796043175042060060320179430697777836444253720487362812225200494621292517308516237099913968606580104655793300501040576489442869377298970818913673480330906977182931968703791985905791827258077340624380478506517618225160220507276694756820594146644466127966775947311039078152045750778158265976017131706969340621125515361829022029407390059209852712290987164110148455905558819418982907391183544712485055403879702525053404138027583277242492047203615476374206714434\n"
     ]
    }
   ],
   "source": [
    "e = Q3b_e\n",
    "#c1 = Q3b_c1\n",
    "#c2 = Q3b_c2\n",
    "c1 = z1\n",
    "c2 = z2\n",
    "Q3b_N = N2\n",
    "\n",
    "R = Zmod(Q3b_N)\n",
    "P.<x,y> = PolynomialRing(R, 2)\n",
    "P1.<y> = PolynomialRing(R, 1)\n",
    "\n",
    "g1 = x^e - c1\n",
    "g2 = (x+y)^e - c2\n",
    "h = g1.change_ring(P1).resultant(g2.change_ring(P1), x)\n",
    "res = g1.change_ring(P1).resultant(g2.change_ring(P1), x)\n",
    "U.<y> = PolynomialRing(R, implementation='NTL')\n",
    "res = U(res)\n",
    "\n",
    "root = res.small_roots(X=2^16, beta=0.5)[0]\n",
    "print(root)\n",
    "print(res(r2-r1))\n",
    "print(R(r2-r1))\n",
    "print(R(root))"
   ]
  }
 ],
 "metadata": {
  "kernelspec": {
   "display_name": "Python 3",
   "language": "python",
   "name": "python3"
  },
  "language_info": {
   "codemirror_mode": {
    "name": "ipython",
    "version": 3
   },
   "file_extension": ".py",
   "mimetype": "text/x-python",
   "name": "python",
   "nbconvert_exporter": "python",
   "pygments_lexer": "ipython3",
   "version": "3.8.5"
  }
 },
 "nbformat": 4,
 "nbformat_minor": 2
}
